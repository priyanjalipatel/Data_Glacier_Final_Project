{
 "cells": [
  {
   "cell_type": "markdown",
   "id": "8fcf6498-ef9e-4dd5-bfea-f4c4366b734b",
   "metadata": {},
   "source": [
    "## Dataset link: https://archive.ics.uci.edu/dataset/222/bank+marketing"
   ]
  },
  {
   "cell_type": "code",
   "execution_count": null,
   "id": "94343761-69f2-4392-8eb6-09a7f04d0eed",
   "metadata": {},
   "outputs": [],
   "source": [
    "#importing required libraries\n",
    "\n",
    "import pandas as pd"
   ]
  },
  {
   "cell_type": "code",
   "execution_count": null,
   "id": "ad643bb5-6826-451a-9b86-373e04d380a5",
   "metadata": {
    "scrolled": true
   },
   "outputs": [],
   "source": [
    "#reading the dataset\n",
    "\n",
    "df = pd.read_csv('./bank-additional-full.csv', delimiter = ';')\n",
    "df.head()\n",
    "\n"
   ]
  },
  {
   "cell_type": "code",
   "execution_count": null,
   "id": "b2011a13-f9e0-458b-8758-cf294e5da2eb",
   "metadata": {},
   "outputs": [],
   "source": [
    "df.shape"
   ]
  },
  {
   "cell_type": "code",
   "execution_count": null,
   "id": "b5dddaab-0981-4d1e-9d40-cf270c76ce47",
   "metadata": {},
   "outputs": [],
   "source": [
    "df.columns"
   ]
  },
  {
   "cell_type": "code",
   "execution_count": null,
   "id": "7d63d9cf-11ab-42fe-ad6c-3f00c7ed96f1",
   "metadata": {},
   "outputs": [],
   "source": [
    "df.info()"
   ]
  },
  {
   "cell_type": "markdown",
   "id": "4b3673c8-02d3-4664-94b3-c581e8679680",
   "metadata": {},
   "source": [
    "## There are zero missing values in the dataset."
   ]
  },
  {
   "cell_type": "code",
   "execution_count": null,
   "id": "73a54a28-fa7b-4b9f-a3cb-df069b1a51c5",
   "metadata": {},
   "outputs": [],
   "source": [
    "df['duration']"
   ]
  },
  {
   "cell_type": "code",
   "execution_count": null,
   "id": "7a0588bb-7e66-48ae-a2e9-6334ffc148e9",
   "metadata": {
    "scrolled": true
   },
   "outputs": [],
   "source": [
    "#dropping duplicates \n",
    "\n",
    "df.drop_duplicates()\n",
    "#df.drop_duplicates(keep = 'first', inplace = True)\n",
    "print(df.duplicated().sum())\n",
    "df= df.drop_duplicates()\n",
    "\n",
    "print(df.shape)\n",
    "\n"
   ]
  },
  {
   "cell_type": "code",
   "execution_count": null,
   "id": "f08d72b6-dd26-4cca-aa87-e934b22a51d8",
   "metadata": {},
   "outputs": [],
   "source": [
    "print(df.nunique().sort_values(ascending=False))"
   ]
  },
  {
   "cell_type": "code",
   "execution_count": null,
   "id": "258afb85-b05a-40c0-b30d-b7796ad116df",
   "metadata": {},
   "outputs": [],
   "source": [
    "df.describe()"
   ]
  },
  {
   "cell_type": "markdown",
   "id": "e62cd6ab-1697-4561-87ad-e76e0049ed20",
   "metadata": {},
   "source": [
    "Duration : Length of the last call (in seconds). Important: This strongly influences whether the client subscribed, but since it's only known after the call, it shouldn't be used in a real predictive model."
   ]
  },
  {
   "cell_type": "code",
   "execution_count": null,
   "id": "453f364c-e4a8-4295-80c9-f9adbe923645",
   "metadata": {},
   "outputs": [],
   "source": [
    "##Develop model with Duration and without duration feature and report the performance of the model.\n",
    "## We exclude duration columns. For building a realistic predictive model, \n",
    "df.drop('duration', axis = 1, inplace = True)\n"
   ]
  },
  {
   "cell_type": "code",
   "execution_count": null,
   "id": "40e7f9d9-dd2f-4496-a14c-02b61db854d3",
   "metadata": {},
   "outputs": [],
   "source": [
    "#https://www.geeksforgeeks.org/data-science/detect-and-remove-the-outliers-using-python/"
   ]
  },
  {
   "cell_type": "code",
   "execution_count": null,
   "id": "b7a80164-8620-46ad-b91d-f410c51653e0",
   "metadata": {},
   "outputs": [],
   "source": [
    "import seaborn as sns\n",
    "import matplotlib.pyplot as plt\n",
    "\n",
    "\n",
    "#outlier detection\n",
    "cols = ['age', 'campaign', 'pdays',\n",
    "       'previous', 'emp.var.rate', 'cons.price.idx',\n",
    "       'cons.conf.idx', 'euribor3m', 'nr.employed']\n",
    "\n",
    "       \n",
    "plt.figure(figsize=(10,15))\n",
    "\n",
    "for i, col in enumerate(cols):\n",
    "    plt.subplot(4,3,i+1)\n",
    "    df.boxplot(col)\n",
    "    plt.grid()\n",
    "    plt.tight_layout()\n",
    "plt.savefig(\"./outlier.png\")\n"
   ]
  },
  {
   "cell_type": "code",
   "execution_count": null,
   "id": "ca69d7b7-7e47-4d99-b8a6-a5d21be2a388",
   "metadata": {},
   "outputs": [],
   "source": [
    "#checking statistics of outlier features\n",
    "\n",
    "df[['age', 'campaign', 'pdays','previous','emp.var.rate']].describe()\n",
    "\n"
   ]
  },
  {
   "cell_type": "code",
   "execution_count": null,
   "id": "67b2acfc-c61d-43e4-affd-0014fd205f99",
   "metadata": {},
   "outputs": [],
   "source": [
    "df['pdays'].unique"
   ]
  },
  {
   "cell_type": "code",
   "execution_count": null,
   "id": "114b4cb3-293c-4682-9463-099dfc64a746",
   "metadata": {
    "scrolled": true
   },
   "outputs": [],
   "source": [
    " #contact , pdays, poutcome : missing values"
   ]
  },
  {
   "cell_type": "code",
   "execution_count": null,
   "id": "eff51ed1-38ba-4911-ad7a-3575562cc50b",
   "metadata": {},
   "outputs": [],
   "source": [
    "#https://www.geeksforgeeks.org/machine-learning/ml-handling-missing-values/"
   ]
  },
  {
   "cell_type": "markdown",
   "id": "f4890790-d669-4fda-bd16-789fb125e70f",
   "metadata": {},
   "source": [
    "### Extract relevant features for subsequent analysis"
   ]
  }
 ],
 "metadata": {
  "kernelspec": {
   "display_name": "Python 3 (ipykernel)",
   "language": "python",
   "name": "python3"
  },
  "language_info": {
   "codemirror_mode": {
    "name": "ipython",
    "version": 3
   },
   "file_extension": ".py",
   "mimetype": "text/x-python",
   "name": "python",
   "nbconvert_exporter": "python",
   "pygments_lexer": "ipython3",
   "version": "3.12.4"
  }
 },
 "nbformat": 4,
 "nbformat_minor": 5
}
